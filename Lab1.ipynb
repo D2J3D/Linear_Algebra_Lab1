{
  "nbformat": 4,
  "nbformat_minor": 0,
  "metadata": {
    "colab": {
      "provenance": [],
      "authorship_tag": "ABX9TyN0h/Un97kp92eaSYt3rX6D",
      "include_colab_link": true
    },
    "kernelspec": {
      "name": "python3",
      "display_name": "Python 3"
    },
    "language_info": {
      "name": "python"
    }
  },
  "cells": [
    {
      "cell_type": "markdown",
      "metadata": {
        "id": "view-in-github",
        "colab_type": "text"
      },
      "source": [
        "<a href=\"https://colab.research.google.com/github/D2J3D/PrLinAlg_Lab1/blob/main/Lab1.ipynb\" target=\"_parent\"><img src=\"https://colab.research.google.com/assets/colab-badge.svg\" alt=\"Open In Colab\"/></a>"
      ]
    },
    {
      "cell_type": "code",
      "execution_count": 21,
      "metadata": {
        "id": "05H6eSn-dEOd"
      },
      "outputs": [],
      "source": [
        "import math\n",
        "import random\n",
        "import sympy\n",
        "\n",
        "import numpy as np"
      ]
    },
    {
      "cell_type": "code",
      "source": [
        "def encrypt_matrix_former(key_word, alphabet):\n",
        "    m = round(math.sqrt(len(key_word)))\n",
        "    encrypt_matrix = [[0] * m for i in range(m)]\n",
        "    j, k = 0, 0\n",
        "    for i in range(len(key_word)):\n",
        "        k %= m\n",
        "        encrypt_matrix[j][k] = alphabet.index(key_word[i])\n",
        "        if (i + 1) % m == 0:\n",
        "            j += 1\n",
        "        k += 1\n",
        "    return np.array(encrypt_matrix)\n"
      ],
      "metadata": {
        "id": "RSwUKuTcdGML"
      },
      "execution_count": 22,
      "outputs": []
    },
    {
      "cell_type": "code",
      "source": [
        "def key_word_generator(alphabet, n):\n",
        "    try:\n",
        "        random_numbers = list(range(0, len(alphabet)))\n",
        "        random.shuffle(random_numbers)\n",
        "        key_word = \"\"\n",
        "        for i in range(n**2):\n",
        "            key_word += alphabet[random_numbers[i]]\n",
        "        return key_word\n",
        "\n",
        "    except ValueError:\n",
        "        print(f\"Не получится задать ключ длины n = {n}. Выбери меньшее значение n\")\n"
      ],
      "metadata": {
        "id": "dz4V-Gs4dHoM"
      },
      "execution_count": 23,
      "outputs": []
    },
    {
      "cell_type": "code",
      "source": [
        "def mod_matrix(np_matrix, n):\n",
        "    for i in range(np_matrix.shape[0]):\n",
        "        for j in range(np_matrix.shape[1]):\n",
        "            np_matrix[i][j] %= n\n",
        "    return np_matrix\n",
        "\n",
        "\n",
        "def mod_vector(np_matrix, n):\n",
        "    for i in range(np_matrix.shape[0]):\n",
        "        np_matrix[i] %= n\n",
        "    return np_matrix\n",
        ""
      ],
      "metadata": {
        "id": "rCpnnRCjdKIP"
      },
      "execution_count": 24,
      "outputs": []
    },
    {
      "cell_type": "code",
      "source": [
        "def matrix_to_text(np_matrix, alphabet):\n",
        "    text = \"\"\n",
        "    for i in range(np_matrix.shape[0]):\n",
        "        for j in range(np_matrix.shape[1]):\n",
        "            text += alphabet[np_matrix[i][j]]\n",
        "    return text\n",
        "\n",
        "\n",
        "def vector_to_text(np_matrix, alphabet):\n",
        "    text = \"\"\n",
        "    for i in range(np_matrix.shape[0]):\n",
        "        text += alphabet[(np_matrix[i])]\n",
        "    return text\n"
      ],
      "metadata": {
        "id": "p5aS9rc6dLyX"
      },
      "execution_count": 25,
      "outputs": []
    },
    {
      "cell_type": "code",
      "source": [
        "def text_to_matrix(text, encrypt_matrix, alphabet):\n",
        "    matrix_from_text = np.zeros((len(text)//encrypt_matrix.shape[1], encrypt_matrix.shape[1]), dtype=int)\n",
        "    counter = 0\n",
        "    for i in range(matrix_from_text.shape[0]):\n",
        "        for j in range(matrix_from_text.shape[1]):\n",
        "            matrix_from_text[i][j] = alphabet.index(text[counter])\n",
        "            counter += 1\n",
        "    return matrix_from_text\n"
      ],
      "metadata": {
        "id": "ac22eHi1dPQZ"
      },
      "execution_count": 26,
      "outputs": []
    },
    {
      "cell_type": "code",
      "source": [
        "def encrypt_text(text_matrix, encrypt_matrix, alphabet):\n",
        "    encrypted_text = \"\"\n",
        "    for i in range(text_matrix.shape[0]):\n",
        "        encrypt_string_matrix = mod_vector(np.dot(text_matrix[i], encrypt_matrix), len(alphabet))\n",
        "        encrypted_text += vector_to_text(encrypt_string_matrix, alphabet)\n",
        "    return encrypted_text\n"
      ],
      "metadata": {
        "id": "s1c_wFjFdRza"
      },
      "execution_count": 27,
      "outputs": []
    },
    {
      "cell_type": "code",
      "source": [
        "def decrypt_matrix_former(encrypt_matrix, n):\n",
        "    return np.array(sympy.Matrix(encrypt_matrix).inv_mod(n))\n",
        "\n",
        "\n",
        "def decrypt_text(encrypted_text, decrypt_matrix, alphabet):\n",
        "    return encrypt_text(encrypted_text, decrypt_matrix, alphabet)\n"
      ],
      "metadata": {
        "id": "TDbv-qFEdU2V"
      },
      "execution_count": 28,
      "outputs": []
    },
    {
      "cell_type": "code",
      "source": [
        "def spoil_message(text_matrix, alphabet):\n",
        "    pos = [random.randint(1, len(alphabet)-1) for _ in range(3)]\n",
        "    k = 0\n",
        "    for i in range(text_matrix.shape[0]):\n",
        "        for j in range(text_matrix.shape[1]):\n",
        "            if k < 3:\n",
        "                if pos[i] != text_matrix[i][j]:\n",
        "                    text_matrix[i][j] = pos[k]\n",
        "                else:\n",
        "                    text_matrix[i][j] = (pos[k] - 1)\n",
        "                k += 1\n",
        "            else:\n",
        "                return text_matrix\n",
        "    return text_matrix\n"
      ],
      "metadata": {
        "id": "4n_SDaZtdW7W"
      },
      "execution_count": 29,
      "outputs": []
    },
    {
      "cell_type": "code",
      "source": [
        "if __name__ == \"__main__\":\n",
        "    # setup\n",
        "    custom_alphabet = \"а б в г д е ж з й к л м н о п р с т\".split(\" \")\n",
        "    custom_alphabet.append(\" \")\n",
        "    n = len(custom_alphabet)\n",
        "    custom_key_word = key_word_generator(custom_alphabet, 3) #3 - размерность матрицы-ключа\n",
        "    custom_encrypt_matrix = encrypt_matrix_former(custom_key_word, custom_alphabet)\n",
        "    message = text_to_matrix(\"ботай  матан\", custom_encrypt_matrix, custom_alphabet)\n",
        "    encrypted_text = encrypt_text(message, custom_encrypt_matrix, custom_alphabet)\n",
        "    custom_decrypt_matrix = decrypt_matrix_former(custom_encrypt_matrix, len(custom_alphabet))\n",
        "    final_decrypted_text = decrypt_text(text_to_matrix(encrypted_text, custom_encrypt_matrix, custom_alphabet),\n",
        "                                        custom_decrypt_matrix, custom_alphabet)\n",
        "    print(f\"Матрица-ключ:\\n{custom_encrypt_matrix}\")\n",
        "    print(f\"Кодовое слово: {custom_key_word}\")\n",
        "    print(f\"Сообщение, которое шифруем:{matrix_to_text(message, custom_alphabet)}\")\n",
        "    print(f\"Зашифрованное сообщение:{encrypted_text}\")\n",
        "    #print(text_to_matrix(\"ботай  матан\", custom_encrypt_matrix, custom_alphabet))\n",
        "    #print(text_to_matrix(encrypted_text, custom_encrypt_matrix, custom_alphabet))\n",
        "    print(f\"Расшифрованное сообщение:{final_decrypted_text}\")\n",
        "\n",
        "    spoiled_message = spoil_message(text_to_matrix(encrypted_text, custom_encrypt_matrix, custom_alphabet), custom_alphabet)\n",
        "    spoiled_message_text = matrix_to_text(spoiled_message, custom_alphabet)\n",
        "    decrypted_spoiled_message = decrypt_text(spoiled_message, custom_decrypt_matrix, custom_alphabet)\n",
        "    print(f\"Испорченное сообщение:{spoiled_message_text}\")\n",
        "    print(f\"Расшифрованное испорченное сообщение: {decrypted_spoiled_message}\")\n"
      ],
      "metadata": {
        "colab": {
          "base_uri": "https://localhost:8080/"
        },
        "id": "Hd1yScHEdZTr",
        "outputId": "66f4bb04-9884-4776-d3ed-daf871b55780"
      },
      "execution_count": 30,
      "outputs": [
        {
          "output_type": "stream",
          "name": "stdout",
          "text": [
            "Матрица-ключ:\n",
            "[[ 5 16 12]\n",
            " [ 8  1 17]\n",
            " [ 4 14  7]]\n",
            "Кодовое слово: еснйбтдпз\n",
            "Сообщение, которое шифруем:ботай  матан\n",
            "Зашифрованное сообщение:жблгорзпдагг\n",
            "Расшифрованное сообщение:ботай  матан\n",
            "Испорченное сообщение:лйсгорзпдагг\n",
            "Расшифрованное испорченное сообщение: страй  матан\n"
          ]
        }
      ]
    },
    {
      "cell_type": "code",
      "source": [],
      "metadata": {
        "id": "ZDLPhF4xddbK"
      },
      "execution_count": 30,
      "outputs": []
    }
  ]
}