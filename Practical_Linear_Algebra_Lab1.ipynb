{
  "nbformat": 4,
  "nbformat_minor": 0,
  "metadata": {
    "colab": {
      "provenance": [],
      "authorship_tag": "ABX9TyOPiizlIdIMzZjbmJmSm5jt",
      "include_colab_link": true
    },
    "kernelspec": {
      "name": "python3",
      "display_name": "Python 3"
    },
    "language_info": {
      "name": "python"
    }
  },
  "cells": [
    {
      "cell_type": "markdown",
      "metadata": {
        "id": "view-in-github",
        "colab_type": "text"
      },
      "source": [
        "<a href=\"https://colab.research.google.com/github/D2J3D/PrLinAlg_Lab1/blob/main/Practical_Linear_Algebra_Lab1.ipynb\" target=\"_parent\"><img src=\"https://colab.research.google.com/assets/colab-badge.svg\" alt=\"Open In Colab\"/></a>"
      ]
    },
    {
      "cell_type": "code",
      "source": [
        "import math\n",
        "import random\n",
        "import numpy as np\n"
      ],
      "metadata": {
        "id": "rTuxdq7O5TX1"
      },
      "execution_count": 245,
      "outputs": []
    },
    {
      "cell_type": "code",
      "source": [
        "# setup\n",
        "custom_alphabet = \"й ц у к е н г ш щ з х ъ ф ы в а п р о л д ж э я ч с м и т ь б ю\".split(\" \")\n",
        "custom_alphabet.append(\" \")\n",
        "custom_alphabet.sort()"
      ],
      "metadata": {
        "id": "lcBtlYSl5A9j"
      },
      "execution_count": 246,
      "outputs": []
    },
    {
      "cell_type": "code",
      "execution_count": 247,
      "metadata": {
        "id": "tKPe9MKA2VAZ"
      },
      "outputs": [],
      "source": [
        "def encrypt_matrix_former(key_word, alphabet):\n",
        "    m = round(math.sqrt(len(key_word)))  # matrix size\n",
        "    encrypt_matrix = [[0] * m for i in range(m)]\n",
        "    j, k = 0, 0\n",
        "    for i in range(len(key_word)):\n",
        "        k %= m\n",
        "        encrypt_matrix[j][k] = alphabet.index(key_word[i])\n",
        "        if (i + 1) % m == 0:\n",
        "            j += 1\n",
        "        k += 1\n",
        "    return np.array(encrypt_matrix)"
      ]
    },
    {
      "cell_type": "code",
      "source": [
        "def key_word_generator(alphabet, n):\n",
        "    try:\n",
        "        random_numbers = list(range(0, len(alphabet)))\n",
        "        random.shuffle(random_numbers)\n",
        "        key_word = \"\"\n",
        "        for i in range(n):\n",
        "            key_word += alphabet[random_numbers[i]]\n",
        "        return key_word\n",
        "\n",
        "    except ValueError:\n",
        "        print(f\"Не получится задать ключ длины n = {int(math.sqrt(n))}. Выбери меньшее значение n\")"
      ],
      "metadata": {
        "id": "PBQPkGI65hqf"
      },
      "execution_count": 248,
      "outputs": []
    },
    {
      "cell_type": "code",
      "source": [
        "def vector_to_text(text_vector, alphabet):\n",
        "  n, m = text_vector.shape[0], text_vector.shape[1]\n",
        "  text = \"\"\n",
        "  for i in range(n):\n",
        "    for j in range(m):\n",
        "      text += alphabet[text_vector[i][j]]\n",
        "  return text\n"
      ],
      "metadata": {
        "id": "F7fKCLMz8VnD"
      },
      "execution_count": 249,
      "outputs": []
    },
    {
      "cell_type": "code",
      "source": [
        "def mod(column_vector, n):\n",
        "  for i in range(column_vector.shape[0]):\n",
        "    column_vector[i] %= n\n",
        "  return column_vector\n"
      ],
      "metadata": {
        "id": "kkXeXGub-n5m"
      },
      "execution_count": 250,
      "outputs": []
    },
    {
      "cell_type": "code",
      "source": [
        "def text_to_matrix(text, alphabet, key_word_length):\n",
        "  n = round(math.sqrt(key_word_length))\n",
        "  word_matrix = [[0]*n for _ in range(math.ceil(len(text)/n))]\n",
        "  j, k = 0, 0\n",
        "  for i in range(len(text)):\n",
        "    k %= n\n",
        "    word_matrix[j][k] = alphabet.index(text[i])\n",
        "    k += 1\n",
        "    if (i + 1) % n == 0:\n",
        "      j += 1\n",
        "  return np.array(word_matrix)\n",
        "\n",
        "\n"
      ],
      "metadata": {
        "id": "zgd0YZh1_KvP"
      },
      "execution_count": 251,
      "outputs": []
    },
    {
      "cell_type": "code",
      "source": [
        "def encrypt_text(encrypt_matrix, text, n, alphabet):\n",
        "    encrypt_matrix_arr = np.array(encrypt_matrix)\n",
        "    word_arr = text_to_matrix(text, alphabet, len(encrypt_matrix[0])**2)\n",
        "    text_vector = np.zeros(shape=(len(word_arr), encrypt_matrix_arr.shape[1]), dtype=int)\n",
        "    for i in range(word_arr.shape[0]):\n",
        "        text_vector[i] = mod(np.dot(word_arr[i], encrypt_matrix_arr), n)\n",
        "    return text_vector"
      ],
      "metadata": {
        "id": "T2Ae-hFjFSUI"
      },
      "execution_count": 252,
      "outputs": []
    },
    {
      "cell_type": "code",
      "source": [
        "example_key_word = key_word_generator(custom_alphabet, 16)"
      ],
      "metadata": {
        "id": "r6NCzwjy5jYa"
      },
      "execution_count": 253,
      "outputs": []
    },
    {
      "cell_type": "code",
      "source": [
        "example_encrypt_matrix = encrypt_matrix_former(example_key_word, custom_alphabet)"
      ],
      "metadata": {
        "id": "R3gEvjSx6YMx"
      },
      "execution_count": 254,
      "outputs": []
    },
    {
      "cell_type": "code",
      "source": [
        "print(example_key_word)\n",
        "print(example_encrypt_matrix)\n",
        "print(vector_to_text(example_encrypt_matrix, custom_alphabet))\n",
        "print(text_to_matrix(example_key_word, custom_alphabet, len(example_key_word)))\n",
        "print()\n",
        "print(encrypt_text(example_encrypt_matrix, \"ботай матан\", len(custom_alphabet), custom_alphabet))"
      ],
      "metadata": {
        "colab": {
          "base_uri": "https://localhost:8080/"
        },
        "id": "N-sQARna6k9l",
        "outputId": "1c2a5a76-465b-4c29-839a-a86860a1cf0c"
      },
      "execution_count": 255,
      "outputs": [
        {
          "output_type": "stream",
          "name": "stdout",
          "text": [
            "щмбсънзжьыларпгэ\n",
            "[[26 13  2 18]\n",
            " [27 14  8  7]\n",
            " [29 28 12  1]\n",
            " [17 16  4 30]]\n",
            "щмбсънзжьыларпгэ\n",
            "[[26 13  2 18]\n",
            " [27 14  8  7]\n",
            " [29 28 12  1]\n",
            " [17 16  4 30]]\n",
            "\n",
            "[[ 2 25 26 25]\n",
            " [27 15 15 25]\n",
            " [ 3 26 16  0]]\n"
          ]
        }
      ]
    }
  ]
}