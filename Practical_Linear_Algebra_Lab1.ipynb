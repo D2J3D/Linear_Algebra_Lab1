{
  "nbformat": 4,
  "nbformat_minor": 0,
  "metadata": {
    "colab": {
      "provenance": [],
      "authorship_tag": "ABX9TyPYpzcRlQ+Cqunlv61gZ0SK",
      "include_colab_link": true
    },
    "kernelspec": {
      "name": "python3",
      "display_name": "Python 3"
    },
    "language_info": {
      "name": "python"
    }
  },
  "cells": [
    {
      "cell_type": "markdown",
      "metadata": {
        "id": "view-in-github",
        "colab_type": "text"
      },
      "source": [
        "<a href=\"https://colab.research.google.com/github/D2J3D/PrLinAlg_Lab1/blob/main/Practical_Linear_Algebra_Lab1.ipynb\" target=\"_parent\"><img src=\"https://colab.research.google.com/assets/colab-badge.svg\" alt=\"Open In Colab\"/></a>"
      ]
    },
    {
      "cell_type": "code",
      "source": [
        "import math\n",
        "import random\n",
        "import numpy as np\n"
      ],
      "metadata": {
        "id": "rTuxdq7O5TX1"
      },
      "execution_count": 20,
      "outputs": []
    },
    {
      "cell_type": "code",
      "source": [
        "# setup\n",
        "custom_alphabet = \"й ц у к е н г ш щ з х ъ ф ы в а п р о л д ж э я ч с м и т ь б ю\".split(\" \")\n",
        "custom_alphabet.append(\" \")\n",
        "custom_alphabet.sort()"
      ],
      "metadata": {
        "id": "lcBtlYSl5A9j"
      },
      "execution_count": 21,
      "outputs": []
    },
    {
      "cell_type": "code",
      "execution_count": 22,
      "metadata": {
        "id": "tKPe9MKA2VAZ"
      },
      "outputs": [],
      "source": [
        "def encrypt_matrix_former(key_word, alphabet):\n",
        "    m = round(math.sqrt(len(key_word)))  # matrix size\n",
        "    encrypt_matrix = [[0] * m for i in range(m)]\n",
        "    j, k = 0, 0\n",
        "    for i in range(len(key_word)):\n",
        "        k %= m\n",
        "        encrypt_matrix[j][k] = alphabet.index(key_word[i])\n",
        "        if (i + 1) % m == 0:\n",
        "            j += 1\n",
        "        k += 1\n",
        "    return encrypt_matrix"
      ]
    },
    {
      "cell_type": "code",
      "source": [
        "def key_word_generator(alphabet, n):\n",
        "    try:\n",
        "        random_numbers = list(range(0, len(alphabet)))\n",
        "        random.shuffle(random_numbers)\n",
        "        key_word = \"\"\n",
        "        for i in range(n):\n",
        "            key_word += alphabet[random_numbers[i]]\n",
        "        return key_word\n",
        "\n",
        "    except ValueError:\n",
        "        print(f\"Не получится задать ключ длины n = {n}. Выбери меньшее значение n\")"
      ],
      "metadata": {
        "id": "PBQPkGI65hqf"
      },
      "execution_count": 23,
      "outputs": []
    },
    {
      "cell_type": "code",
      "source": [
        "example_key_word = key_word_generator(custom_alphabet, 16)"
      ],
      "metadata": {
        "id": "r6NCzwjy5jYa"
      },
      "execution_count": 24,
      "outputs": []
    },
    {
      "cell_type": "code",
      "source": [
        "example_encrypt_matrix = encrypt_matrix_former(example_key_word, custom_alphabet)"
      ],
      "metadata": {
        "id": "R3gEvjSx6YMx"
      },
      "execution_count": 25,
      "outputs": []
    },
    {
      "cell_type": "code",
      "source": [
        "print(example_key_word)\n",
        "print(example_encrypt_matrix)"
      ],
      "metadata": {
        "colab": {
          "base_uri": "https://localhost:8080/"
        },
        "id": "N-sQARna6k9l",
        "outputId": "f20de28e-1d0f-4a5d-a51c-cda24e4cfc0e"
      },
      "execution_count": 26,
      "outputs": [
        {
          "output_type": "stream",
          "name": "stdout",
          "text": [
            "охишрнуаячыгбюдп\n",
            "[[15, 22, 9, 25], [17, 14, 20, 1], [32, 24, 28, 4], [2, 31, 5, 16]]\n"
          ]
        }
      ]
    }
  ]
}